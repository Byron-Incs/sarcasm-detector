{
 "cells": [
  {
   "cell_type": "code",
   "execution_count": 1,
   "metadata": {},
   "outputs": [],
   "source": [
    "import json\n",
    "import tensorflow as tf\n",
    "\n",
    "from tensorflow.keras.preprocessing.text import Tokenizer\n",
    "from tensorflow.keras.preprocessing.sequence import pad_sequences"
   ]
  },
  {
   "cell_type": "code",
   "execution_count": 2,
   "metadata": {},
   "outputs": [],
   "source": [
    "vocab_size = 10000\n",
    "embedding_dim = 16\n",
    "max_length = 100\n",
    "trunc_type='post'\n",
    "padding_type='post'\n",
    "oov_tok = \"<OOV>\"\n",
    "training_size = 20000\n"
   ]
  },
  {
   "cell_type": "code",
   "execution_count": 4,
   "metadata": {},
   "outputs": [],
   "source": [
    "with open(\"sarcasm.json\", 'r') as f:\n",
    "    datastore = json.load(f)\n",
    "\n",
    "sentences = []\n",
    "labels = []\n",
    "\n",
    "for item in datastore:\n",
    "    sentences.append(item['headline'])\n",
    "    labels.append(item['is_sarcastic'])"
   ]
  },
  {
   "cell_type": "code",
   "execution_count": 5,
   "metadata": {},
   "outputs": [],
   "source": [
    "training_sentences = sentences[0:training_size]\n",
    "testing_sentences = sentences[training_size:]\n",
    "training_labels = labels[0:training_size]\n",
    "testing_labels = labels[training_size:]"
   ]
  },
  {
   "cell_type": "code",
   "execution_count": 6,
   "metadata": {},
   "outputs": [],
   "source": [
    "tokenizer = Tokenizer(num_words=vocab_size, oov_token=oov_tok)\n",
    "tokenizer.fit_on_texts(training_sentences)\n",
    "\n",
    "word_index = tokenizer.word_index\n",
    "\n",
    "training_sequences = tokenizer.texts_to_sequences(training_sentences)\n",
    "training_padded = pad_sequences(training_sequences, maxlen=max_length, padding=padding_type, truncating=trunc_type)\n",
    "\n",
    "testing_sequences = tokenizer.texts_to_sequences(testing_sentences)\n",
    "testing_padded = pad_sequences(testing_sequences, maxlen=max_length, padding=padding_type, truncating=trunc_type)"
   ]
  },
  {
   "cell_type": "code",
   "execution_count": 7,
   "metadata": {},
   "outputs": [],
   "source": [
    "import numpy as np\n",
    "training_padded = np.array(training_padded)\n",
    "training_labels = np.array(training_labels)\n",
    "testing_padded = np.array(testing_padded)\n",
    "testing_labels = np.array(testing_labels)"
   ]
  },
  {
   "cell_type": "code",
   "execution_count": 9,
   "metadata": {},
   "outputs": [
    {
     "name": "stdout",
     "output_type": "stream",
     "text": [
      "Model: \"sequential_1\"\n",
      "_________________________________________________________________\n",
      " Layer (type)                Output Shape              Param #   \n",
      "=================================================================\n",
      " embedding_1 (Embedding)     (None, 100, 16)           160000    \n",
      "                                                                 \n",
      " global_average_pooling1d_1  (None, 16)                0         \n",
      "  (GlobalAveragePooling1D)                                       \n",
      "                                                                 \n",
      " dense_2 (Dense)             (None, 24)                408       \n",
      "                                                                 \n",
      " dense_3 (Dense)             (None, 1)                 25        \n",
      "                                                                 \n",
      "=================================================================\n",
      "Total params: 160433 (626.69 KB)\n",
      "Trainable params: 160433 (626.69 KB)\n",
      "Non-trainable params: 0 (0.00 Byte)\n",
      "_________________________________________________________________\n"
     ]
    }
   ],
   "source": [
    "model = tf.keras.Sequential([\n",
    "    tf.keras.layers.Embedding(vocab_size, embedding_dim, input_length=max_length),\n",
    "    tf.keras.layers.GlobalAveragePooling1D(),\n",
    "    tf.keras.layers.Dense(24, activation='relu'),\n",
    "    tf.keras.layers.Dense(1, activation='sigmoid')\n",
    "])\n",
    "model.compile(loss='binary_crossentropy',optimizer='adam',metrics=['accuracy'])\n",
    "model.summary()"
   ]
  },
  {
   "cell_type": "code",
   "execution_count": 10,
   "metadata": {},
   "outputs": [
    {
     "name": "stdout",
     "output_type": "stream",
     "text": [
      "Epoch 1/30\n",
      "625/625 - 1s - loss: 0.6535 - accuracy: 0.5993 - val_loss: 0.5508 - val_accuracy: 0.7480 - 785ms/epoch - 1ms/step\n",
      "Epoch 2/30\n",
      "625/625 - 1s - loss: 0.4100 - accuracy: 0.8389 - val_loss: 0.3746 - val_accuracy: 0.8465 - 560ms/epoch - 895us/step\n",
      "Epoch 3/30\n",
      "625/625 - 1s - loss: 0.2933 - accuracy: 0.8852 - val_loss: 0.3498 - val_accuracy: 0.8527 - 559ms/epoch - 894us/step\n",
      "Epoch 4/30\n",
      "625/625 - 1s - loss: 0.2435 - accuracy: 0.9044 - val_loss: 0.3439 - val_accuracy: 0.8550 - 562ms/epoch - 899us/step\n",
      "Epoch 5/30\n",
      "625/625 - 1s - loss: 0.2081 - accuracy: 0.9197 - val_loss: 0.3512 - val_accuracy: 0.8538 - 560ms/epoch - 895us/step\n",
      "Epoch 6/30\n",
      "625/625 - 1s - loss: 0.1788 - accuracy: 0.9320 - val_loss: 0.3681 - val_accuracy: 0.8512 - 571ms/epoch - 913us/step\n",
      "Epoch 7/30\n",
      "625/625 - 1s - loss: 0.1584 - accuracy: 0.9423 - val_loss: 0.3864 - val_accuracy: 0.8514 - 570ms/epoch - 912us/step\n",
      "Epoch 8/30\n",
      "625/625 - 1s - loss: 0.1393 - accuracy: 0.9496 - val_loss: 0.4179 - val_accuracy: 0.8444 - 587ms/epoch - 939us/step\n",
      "Epoch 9/30\n",
      "625/625 - 1s - loss: 0.1250 - accuracy: 0.9553 - val_loss: 0.4380 - val_accuracy: 0.8480 - 566ms/epoch - 905us/step\n",
      "Epoch 10/30\n",
      "625/625 - 1s - loss: 0.1135 - accuracy: 0.9609 - val_loss: 0.4557 - val_accuracy: 0.8477 - 609ms/epoch - 974us/step\n",
      "Epoch 11/30\n",
      "625/625 - 1s - loss: 0.1014 - accuracy: 0.9653 - val_loss: 0.5722 - val_accuracy: 0.8232 - 579ms/epoch - 926us/step\n",
      "Epoch 12/30\n",
      "625/625 - 1s - loss: 0.0918 - accuracy: 0.9686 - val_loss: 0.5191 - val_accuracy: 0.8404 - 556ms/epoch - 890us/step\n",
      "Epoch 13/30\n",
      "625/625 - 1s - loss: 0.0818 - accuracy: 0.9719 - val_loss: 0.5581 - val_accuracy: 0.8354 - 550ms/epoch - 880us/step\n",
      "Epoch 14/30\n",
      "625/625 - 1s - loss: 0.0746 - accuracy: 0.9757 - val_loss: 0.5914 - val_accuracy: 0.8340 - 556ms/epoch - 890us/step\n",
      "Epoch 15/30\n",
      "625/625 - 1s - loss: 0.0679 - accuracy: 0.9775 - val_loss: 0.6295 - val_accuracy: 0.8326 - 562ms/epoch - 900us/step\n",
      "Epoch 16/30\n",
      "625/625 - 1s - loss: 0.0620 - accuracy: 0.9803 - val_loss: 0.6739 - val_accuracy: 0.8310 - 562ms/epoch - 900us/step\n",
      "Epoch 17/30\n",
      "625/625 - 1s - loss: 0.0555 - accuracy: 0.9834 - val_loss: 0.7586 - val_accuracy: 0.8229 - 561ms/epoch - 897us/step\n",
      "Epoch 18/30\n",
      "625/625 - 1s - loss: 0.0508 - accuracy: 0.9853 - val_loss: 0.7898 - val_accuracy: 0.8231 - 561ms/epoch - 898us/step\n",
      "Epoch 19/30\n",
      "625/625 - 1s - loss: 0.0454 - accuracy: 0.9866 - val_loss: 0.8002 - val_accuracy: 0.8240 - 558ms/epoch - 892us/step\n",
      "Epoch 20/30\n",
      "625/625 - 1s - loss: 0.0407 - accuracy: 0.9883 - val_loss: 0.8489 - val_accuracy: 0.8220 - 555ms/epoch - 888us/step\n",
      "Epoch 21/30\n",
      "625/625 - 1s - loss: 0.0386 - accuracy: 0.9889 - val_loss: 0.8981 - val_accuracy: 0.8214 - 568ms/epoch - 909us/step\n",
      "Epoch 22/30\n",
      "625/625 - 1s - loss: 0.0352 - accuracy: 0.9897 - val_loss: 0.9377 - val_accuracy: 0.8207 - 556ms/epoch - 889us/step\n",
      "Epoch 23/30\n",
      "625/625 - 1s - loss: 0.0332 - accuracy: 0.9899 - val_loss: 0.9731 - val_accuracy: 0.8189 - 557ms/epoch - 891us/step\n",
      "Epoch 24/30\n",
      "625/625 - 1s - loss: 0.0293 - accuracy: 0.9913 - val_loss: 1.0305 - val_accuracy: 0.8150 - 551ms/epoch - 882us/step\n",
      "Epoch 25/30\n",
      "625/625 - 1s - loss: 0.0269 - accuracy: 0.9926 - val_loss: 1.0681 - val_accuracy: 0.8156 - 566ms/epoch - 906us/step\n",
      "Epoch 26/30\n",
      "625/625 - 1s - loss: 0.0248 - accuracy: 0.9932 - val_loss: 1.1485 - val_accuracy: 0.8141 - 566ms/epoch - 905us/step\n",
      "Epoch 27/30\n",
      "625/625 - 1s - loss: 0.0255 - accuracy: 0.9922 - val_loss: 1.1718 - val_accuracy: 0.8143 - 568ms/epoch - 909us/step\n",
      "Epoch 28/30\n",
      "625/625 - 1s - loss: 0.0202 - accuracy: 0.9944 - val_loss: 1.2613 - val_accuracy: 0.8103 - 561ms/epoch - 897us/step\n",
      "Epoch 29/30\n",
      "625/625 - 1s - loss: 0.0195 - accuracy: 0.9947 - val_loss: 1.2719 - val_accuracy: 0.8106 - 563ms/epoch - 900us/step\n",
      "Epoch 30/30\n",
      "625/625 - 1s - loss: 0.0181 - accuracy: 0.9949 - val_loss: 1.2551 - val_accuracy: 0.8050 - 557ms/epoch - 891us/step\n"
     ]
    }
   ],
   "source": [
    "num_epochs = 30\n",
    "history = model.fit(training_padded, training_labels, epochs=num_epochs, validation_data=(testing_padded, testing_labels), verbose=2)"
   ]
  },
  {
   "cell_type": "code",
   "execution_count": 52,
   "metadata": {},
   "outputs": [
    {
     "name": "stdout",
     "output_type": "stream",
     "text": [
      "1/1 [==============================] - 0s 14ms/step\n",
      "[[3.295381e-02]\n",
      " [7.169237e-11]]\n"
     ]
    }
   ],
   "source": [
    "sentence = [\"Hope you have a great day!\", \"Thanks for your help, I really appreciate your advice.\"]\n",
    "sequences = tokenizer.texts_to_sequences(sentence)\n",
    "padded = pad_sequences(sequences, maxlen=max_length, padding=padding_type, truncating=trunc_type)\n",
    "print(model.predict(padded))"
   ]
  }
 ],
 "metadata": {
  "kernelspec": {
   "display_name": "Python 3",
   "language": "python",
   "name": "python3"
  },
  "language_info": {
   "codemirror_mode": {
    "name": "ipython",
    "version": 3
   },
   "file_extension": ".py",
   "mimetype": "text/x-python",
   "name": "python",
   "nbconvert_exporter": "python",
   "pygments_lexer": "ipython3",
   "version": "3.11.4"
  },
  "orig_nbformat": 4
 },
 "nbformat": 4,
 "nbformat_minor": 2
}
